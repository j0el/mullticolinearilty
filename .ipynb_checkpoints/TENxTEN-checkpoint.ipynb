{
 "cells": [
  {
   "cell_type": "markdown",
   "metadata": {
    "id": "y4BvhMqDj2Ho"
   },
   "source": [
    "# Visualizing multicollinearity in Python"
   ]
  },
  {
   "cell_type": "markdown",
   "metadata": {
    "id": "OnWi5hHrj6w5"
   },
   "source": [
    "## Imports"
   ]
  },
  {
   "cell_type": "code",
   "execution_count": 28,
   "metadata": {
    "colab": {
     "base_uri": "https://localhost:8080/"
    },
    "id": "7SLcEnymj6bN",
    "outputId": "c4749742-b3fc-4ec8-d282-0f9da614a74f"
   },
   "outputs": [],
   "source": [
    "import pandas as pd\n",
    "import seaborn as sns\n",
    "%matplotlib inline\n",
    "import numpy as np\n",
    "import os\n",
    "import matplotlib.pyplot as plt\n",
    "import plotly.io as pio\n",
    "pio.renderers.default = 'jupyterlab' # or 'notebook' or 'colab' or 'jupyterlab'\n",
    "\n",
    "import plotly.graph_objects as go\n",
    "import plotly.express as px\n",
    "import networkx as nx\n",
    "from ipywidgets import Layout, widgets\n",
    "import math\n",
    "import matplotlib.dates as md\n",
    "from yahoofinancials import YahooFinancials\n",
    "import yfinance as yf\n",
    "from concurrent.futures import ThreadPoolExecutor, ProcessPoolExecutor\n",
    "from yahooquery import Ticker\n"
   ]
  },
  {
   "cell_type": "markdown",
   "metadata": {
    "id": "Ea-Yfihrj9nU"
   },
   "source": [
    "## Data and mapping"
   ]
  },
  {
   "cell_type": "markdown",
   "metadata": {
    "id": "I6u9ar6tlF5t"
   },
   "source": [
    "### Retrieving 10x10tickers, sectors and adjusted closings"
   ]
  },
  {
   "cell_type": "code",
   "execution_count": 31,
   "metadata": {},
   "outputs": [],
   "source": [
    "# Create Ticker instance, passing symbols as first argument\n",
    "# Optional asynchronous argument allows for asynchronous requests\n",
    "TENxTEN_tickers = pd.read_excel('WK.xlsx', skiprows=13, header=None, usecols = \"B:B\").dropna().iloc[:,0].str.cat(sep=' ')\n",
    "tickers = Ticker(TENxTEN_tickers, asynchronous=True)\n",
    "\n",
    "data = tickers.get_modules(\"summaryProfile quoteType price\")\n",
    "TENxTEN_info = pd.DataFrame.from_dict(data).T\n",
    "\n",
    "# flatten dicts within each column, creating new dataframes\n",
    "dataframes = [pd.json_normalize([x for x in TENxTEN_info[module] if isinstance(x, dict)]) for module in ['summaryProfile', 'quoteType']]\n",
    "\n",
    "# concat dataframes from previous step\n",
    "TENxTEN_info = pd.concat(dataframes, axis=1)\n",
    "\n",
    "# Default period = ytd, interval = 1d\n",
    "df = tickers.history(period='1y', interval='1d', adj_ohlc = True)\n",
    "\n",
    "\n"
   ]
  },
  {
   "cell_type": "markdown",
   "metadata": {
    "id": "qiT0_OjelK7m"
   },
   "source": [
    "### Generate color mappings for similar sectors"
   ]
  },
  {
   "cell_type": "code",
   "execution_count": 33,
   "metadata": {
    "id": "dxwjdF7tjzCk"
   },
   "outputs": [],
   "source": [
    "TENxTEN_names_mapping = dict(zip(TENxTEN_info.symbol,TENxTEN_info.shortName))\n",
    "TENxTEN_sector_mapping = dict(zip(TENxTEN_info.symbol,TENxTEN_info.sector))\n",
    "sector_color_mapping = dict(zip(TENxTEN_info.sector,sns.color_palette(\"pastel\", len(TENxTEN_info.sector)).as_hex()))"
   ]
  },
  {
   "cell_type": "markdown",
   "metadata": {
    "id": "jP8Io258lPWp"
   },
   "source": [
    "### Download stock data"
   ]
  },
  {
   "cell_type": "code",
   "execution_count": 27,
   "metadata": {},
   "outputs": [
    {
     "ename": "AttributeError",
     "evalue": "'dict' object has no attribute 'CVZ'",
     "output_type": "error",
     "traceback": [
      "\u001b[0;31m---------------------------------------------------------------------------\u001b[0m",
      "\u001b[0;31mAttributeError\u001b[0m                            Traceback (most recent call last)",
      "Input \u001b[0;32mIn [27]\u001b[0m, in \u001b[0;36m<module>\u001b[0;34m\u001b[0m\n\u001b[0;32m----> 1\u001b[0m \u001b[43mdf\u001b[49m\u001b[38;5;241;43m.\u001b[39;49m\u001b[43mCVZ\u001b[49m\n",
      "\u001b[0;31mAttributeError\u001b[0m: 'dict' object has no attribute 'CVZ'"
     ]
    }
   ],
   "source": []
  },
  {
   "cell_type": "markdown",
   "metadata": {
    "id": "kX53_HsalTAU"
   },
   "source": [
    "### Preprocessing (imputation)"
   ]
  },
  {
   "cell_type": "code",
   "execution_count": null,
   "metadata": {
    "colab": {
     "base_uri": "https://localhost:8080/"
    },
    "id": "OZ_gDY3UkKtO",
    "outputId": "1923326a-35c7-47e4-9ca3-9c7a110c6e6f"
   },
   "outputs": [],
   "source": [
    "for i, row in prices.iterrows():\n",
    "  if row.isnull().mean() > 0.9: prices.drop(i, inplace=True)\n",
    "prices = prices.loc[:, prices.isnull().mean() < 0.3]\n",
    "prices = prices.fillna(method='bfill')\n",
    "print(prices.shape)"
   ]
  },
  {
   "cell_type": "markdown",
   "metadata": {
    "id": "SJoTJQ5FlZwr"
   },
   "source": [
    "### Generate correlation matrix"
   ]
  },
  {
   "cell_type": "markdown",
   "metadata": {
    "id": "TjvqpwozmZ4J"
   },
   "source": [
    "Note: this can take a while"
   ]
  },
  {
   "cell_type": "code",
   "execution_count": null,
   "metadata": {
    "id": "zpTO-40ykM6t"
   },
   "outputs": [],
   "source": [
    "corr = prices.rolling(60).corr()\n",
    "corr_ = np.array([corr.loc[i].to_numpy() for i in prices.index if not np.isnan(corr.loc[i].to_numpy()).all()])\n",
    "corr_ = np.nansum(corr_, axis=0)/len(corr_)\n",
    "corr_ = pd.DataFrame(columns=prices.columns.tolist(), index=prices.columns.tolist(), data=corr_)"
   ]
  },
  {
   "cell_type": "code",
   "execution_count": null,
   "metadata": {
    "colab": {
     "base_uri": "https://localhost:8080/"
    },
    "id": "65KWOkcy7JMc",
    "outputId": "ad2e7277-2830-4c82-dd80-da0c051072e5"
   },
   "outputs": [],
   "source": [
    "# corr_.value_counts()"
   ]
  },
  {
   "cell_type": "markdown",
   "metadata": {
    "id": "DCzTV8X-mg-c"
   },
   "source": [
    "## Visualizations"
   ]
  },
  {
   "cell_type": "markdown",
   "metadata": {
    "id": "KMEov2OlkOeZ"
   },
   "source": [
    "### Approach 1: The heatmap"
   ]
  },
  {
   "cell_type": "code",
   "execution_count": null,
   "metadata": {
    "colab": {
     "base_uri": "https://localhost:8080/",
     "height": 1000
    },
    "id": "0daPgQoTkOBi",
    "outputId": "fcaa0cc9-aaf5-4a53-d924-ec1f53291140"
   },
   "outputs": [],
   "source": [
    "plt.figure(figsize=(20,20))\n",
    "sns.heatmap(corr_) "
   ]
  },
  {
   "cell_type": "markdown",
   "metadata": {
    "id": "OeSNglMokT2j"
   },
   "source": [
    "### Approach 2: The clustermap"
   ]
  },
  {
   "cell_type": "code",
   "execution_count": null,
   "metadata": {
    "colab": {
     "base_uri": "https://localhost:8080/",
     "height": 1000
    },
    "id": "KtrU4sa_kUGj",
    "outputId": "02b6d2cf-bac9-4881-acbe-2e7c9d2ad066"
   },
   "outputs": [],
   "source": [
    "sns.clustermap(corr_, figsize=(20,20))"
   ]
  },
  {
   "cell_type": "markdown",
   "metadata": {
    "id": "jJvqOI96kWG4"
   },
   "source": [
    "### Approach 3: Interactive network graph"
   ]
  },
  {
   "cell_type": "code",
   "execution_count": null,
   "metadata": {
    "colab": {
     "base_uri": "https://localhost:8080/",
     "height": 48,
     "referenced_widgets": [
      "9f66f2f5cd4b4f15bc45e481558b817c",
      "71a5439a26b640ed9b63da2041fbf67e",
      "98b6cea6d2114a9faf82b8f776825352",
      "fea00514b1f7459ab8863d9cbe132bc3",
      "162fda8929b34d9a8ba043682719d4b2"
     ]
    },
    "id": "TKym7DNxkWNJ",
    "outputId": "e2701aa7-c447-4de5-e599-4d48010ecf6d"
   },
   "outputs": [],
   "source": [
    "threshold_choice = widgets.FloatSlider(description=\"Threshold\", value=0.8, min=0.5, max=1, step=0.05, continuous_update=False, orientation='horizontal',\n",
    "                           layout=Layout(width='500px'), style=dict(description_width= 'initial'))\n",
    "\n",
    "network = go.FigureWidget(data=[go.Scatter(x=[], y=[], mode='lines', text=[],  line=dict(color='MediumPurple',width=10),\n",
    "                                           marker=dict(size=20, line_width=10,line=dict(color='MediumPurple',width=2))),\n",
    "                                go.Scatter(x=[], y=[],mode='markers+text', textposition=\"top center\", \n",
    "                                          text=[],hoverinfo='text',textfont_size=12, marker=dict(size=50, color=[],line_width=1))],\n",
    "                          layout=go.Layout( showlegend=False, annotations=[], margin=dict(t=40, b=0, l=0, r=0), width=1600, height=800))\n",
    "\n",
    "df = prices.copy()\n",
    "correlation_matrix = corr_.to_numpy()\n",
    "\n",
    "def plot_corr_graph(change):\n",
    "    threshold, corr_mode = None, None\n",
    "\n",
    "    threshold = change.new\n",
    "    \n",
    "    tr_ind = np.triu_indices(correlation_matrix.shape[0])\n",
    "    correlation_matrix[tr_ind] = 0\n",
    "\n",
    "    G = nx.from_numpy_matrix(correlation_matrix)\n",
    "    G = nx.relabel_nodes(G, lambda x: df.columns.tolist()[x])\n",
    "    # 49 x 49 - 49 (self corr) / 2 (remove upper triang)\n",
    "\n",
    "    remove = []\n",
    "    \n",
    "    for col1, col2, weight in G.edges(data=True):\n",
    "\n",
    "        if math.isnan(weight[\"weight\"]):\n",
    "            remove.append((col1,col2))\n",
    "    \n",
    "        if abs(weight[\"weight\"]) < threshold:\n",
    "            remove.append((col1,col2))\n",
    "    \n",
    "    G.remove_edges_from(remove)\n",
    "    \n",
    "    remove = []\n",
    "    edges = list(sum(G.edges, ()))\n",
    "\n",
    "    for node in G.nodes:\n",
    "        if node not in edges:\n",
    "            remove.append(node)\n",
    "\n",
    "    G.remove_nodes_from(remove)\n",
    "    mst = nx.maximum_spanning_tree(G)\n",
    "\n",
    "    def assign_color(col):\n",
    "      return sector_color_mapping[sp500_sector_mapping[col]]\n",
    "\n",
    "    # def assign_thickness(correlation, benchmark_thickness=20, scaling_factor=2):\n",
    "    #   return benchmark_thickness * abs(correlation)**scaling_factor\n",
    "\n",
    "    # def assign_node_size(degree, scaling_factor=500):\n",
    "    #   return degree * scaling_factor\n",
    "\n",
    "    def assign_color_edge(correlation):\n",
    "      if correlation < 0:\n",
    "        return \"#BF0603\"\n",
    "      else:\n",
    "        return \"#00CC66\"\n",
    "\n",
    "    edge_colors = []\n",
    "    # edge_width = []\n",
    "    # node_size = []\n",
    "    node_colors = []\n",
    "\n",
    "    for key, value in nx.get_edge_attributes(mst, 'weight').items():\n",
    "        edge_colors.append(assign_color_edge(value))\n",
    "        # edge_width.append(assign_thickness(value))\n",
    "\n",
    "    for key, value in dict(mst.degree).items():\n",
    "        # node_size.append(assign_node_size(value))\n",
    "        node_colors.append(assign_color(key))\n",
    "      \n",
    "    labels = {n:n for n in mst.nodes()}\n",
    "    node_x = []\n",
    "    node_y = []\n",
    "    \n",
    "    tree = nx.fruchterman_reingold_layout(mst, k=0.25).items()\n",
    "    \n",
    "    for node, (x_,y_) in tree:\n",
    "        node_x.append(x_)\n",
    "        node_y.append(y_)\n",
    "        \n",
    "    def get_dim_of_node(name):\n",
    "        for node, (x,y) in tree:\n",
    "            if node == name:\n",
    "                return x,y\n",
    "        \n",
    "    edge_x = []\n",
    "    edge_y = []\n",
    "    \n",
    "    weights= []\n",
    "    for node1, node2, w in mst.edges(data=True):\n",
    "        x0, y0 = get_dim_of_node(node1)\n",
    "        x1, y1 =  get_dim_of_node(node2)\n",
    "        edge_x.append(x0)\n",
    "        edge_x.append(x1)\n",
    "        edge_x.append(None)\n",
    "        edge_y.append(y0)\n",
    "        edge_y.append(y1)\n",
    "        edge_y.append(None)\n",
    "        weights.append((round(w[\"weight\"],1), (x0+x1)/2, (y0+y1)/2))\n",
    "    # annotations_list =[dict(x=weight[1], y=weight[2], xref='x', yref='y', text=weight[0], ax=weight[1], ay=weight[2]) for weight in weights]\n",
    "                              \n",
    "    with network.batch_update():\n",
    "        network.data[1].x = node_x\n",
    "        network.data[1].y = node_y\n",
    "        network.data[1].text = list(labels)\n",
    "        network.data[1].marker.color = node_colors\n",
    "        # network.update_layout(annotations=annotations_list)\n",
    "                          \n",
    "        network.data[0].x = edge_x\n",
    "        network.data[0].y = edge_y\n",
    "        network.data[0].text = list(weights)\n",
    "        network.update_layout(xaxis_zeroline=False, yaxis_zeroline=False, xaxis_showgrid=False, yaxis_showgrid=False, plot_bgcolor='rgba(0,0,0,0)')\n",
    "\n",
    "threshold_choice.observe(plot_corr_graph, names=\"value\")\n",
    "widgets.VBox([threshold_choice])"
   ]
  },
  {
   "cell_type": "markdown",
   "metadata": {
    "id": "XhEWX9VPn2sD"
   },
   "source": [
    "Run the cell below and play around with the treshold above to see results. (Threshold of >= 0.9 is recommended)"
   ]
  },
  {
   "cell_type": "code",
   "execution_count": null,
   "metadata": {
    "colab": {
     "base_uri": "https://localhost:8080/",
     "height": 816,
     "referenced_widgets": [
      "986f7c4005b2425785571b4520779e09"
     ]
    },
    "id": "fLoOZdrpnpIb",
    "outputId": "ebb49c5f-423f-455d-f45f-838a0339f6c4"
   },
   "outputs": [],
   "source": [
    "network"
   ]
  },
  {
   "cell_type": "code",
   "execution_count": null,
   "metadata": {},
   "outputs": [],
   "source": []
  }
 ],
 "metadata": {
  "colab": {
   "collapsed_sections": [],
   "name": "Visualizing multicollinearity .ipynb",
   "provenance": []
  },
  "kernelspec": {
   "display_name": "Python [conda env:finance]",
   "language": "python",
   "name": "conda-env-finance-py"
  },
  "language_info": {
   "codemirror_mode": {
    "name": "ipython",
    "version": 3
   },
   "file_extension": ".py",
   "mimetype": "text/x-python",
   "name": "python",
   "nbconvert_exporter": "python",
   "pygments_lexer": "ipython3",
   "version": "3.9.9"
  },
  "widgets": {
   "application/vnd.jupyter.widget-state+json": {
    "162fda8929b34d9a8ba043682719d4b2": {
     "model_module": "@jupyter-widgets/controls",
     "model_module_version": "1.5.0",
     "model_name": "SliderStyleModel",
     "state": {
      "_model_module": "@jupyter-widgets/controls",
      "_model_module_version": "1.5.0",
      "_model_name": "SliderStyleModel",
      "_view_count": null,
      "_view_module": "@jupyter-widgets/base",
      "_view_module_version": "1.2.0",
      "_view_name": "StyleView",
      "description_width": "initial",
      "handle_color": null
     }
    },
    "71a5439a26b640ed9b63da2041fbf67e": {
     "model_module": "@jupyter-widgets/controls",
     "model_module_version": "1.5.0",
     "model_name": "FloatSliderModel",
     "state": {
      "_dom_classes": [],
      "_model_module": "@jupyter-widgets/controls",
      "_model_module_version": "1.5.0",
      "_model_name": "FloatSliderModel",
      "_view_count": null,
      "_view_module": "@jupyter-widgets/controls",
      "_view_module_version": "1.5.0",
      "_view_name": "FloatSliderView",
      "continuous_update": false,
      "description": "Threshold",
      "description_tooltip": null,
      "disabled": false,
      "layout": "IPY_MODEL_fea00514b1f7459ab8863d9cbe132bc3",
      "max": 1,
      "min": 0.5,
      "orientation": "horizontal",
      "readout": true,
      "readout_format": ".2f",
      "step": 0.05,
      "style": "IPY_MODEL_162fda8929b34d9a8ba043682719d4b2",
      "value": 0.9
     }
    },
    "986f7c4005b2425785571b4520779e09": {
     "model_module": "jupyterlab-plotly",
     "model_module_version": "^5.5.0",
     "model_name": "FigureModel",
     "state": {
      "_config": {
       "plotlyServerURL": "https://plot.ly"
      },
      "_data": [
       {
        "line": {
         "color": "MediumPurple",
         "width": 10
        },
        "marker": {
         "line": {
          "color": "MediumPurple",
          "width": 10
         },
         "size": 20
        },
        "mode": "lines",
        "text": [],
        "type": "scatter",
        "uid": "cad4fce3-1ebb-41bc-a337-05b47f220b1e",
        "x": [],
        "y": []
       },
       {
        "hoverinfo": "text",
        "marker": {
         "color": [],
         "line": {
          "width": 1
         },
         "size": 50
        },
        "mode": "markers+text",
        "text": [],
        "textfont": {
         "size": 12
        },
        "textposition": "top center",
        "type": "scatter",
        "uid": "ed6a5191-7300-4bfb-8887-c00f63957393",
        "x": [],
        "y": []
       }
      ],
      "_dom_classes": [],
      "_js2py_layoutDelta": null,
      "_js2py_pointsCallback": null,
      "_js2py_relayout": {},
      "_js2py_restyle": {},
      "_js2py_traceDeltas": null,
      "_js2py_update": {},
      "_last_layout_edit_id": 1,
      "_last_trace_edit_id": 1,
      "_layout": {
       "height": 800,
       "margin": {
        "b": 0,
        "l": 0,
        "r": 0,
        "t": 40
       },
       "showlegend": false,
       "width": 1600
      },
      "_model_module": "jupyterlab-plotly",
      "_model_module_version": "^5.5.0",
      "_model_name": "FigureModel",
      "_py2js_addTraces": {},
      "_py2js_animate": {},
      "_py2js_deleteTraces": {},
      "_py2js_moveTraces": {},
      "_py2js_relayout": null,
      "_py2js_removeLayoutProps": {},
      "_py2js_removeTraceProps": {},
      "_py2js_restyle": {},
      "_py2js_update": null,
      "_view_count": 1,
      "_view_module": "jupyterlab-plotly",
      "_view_module_version": "^5.5.0",
      "_view_name": "FigureView"
     }
    },
    "98b6cea6d2114a9faf82b8f776825352": {
     "model_module": "@jupyter-widgets/base",
     "model_module_version": "1.2.0",
     "model_name": "LayoutModel",
     "state": {
      "_model_module": "@jupyter-widgets/base",
      "_model_module_version": "1.2.0",
      "_model_name": "LayoutModel",
      "_view_count": null,
      "_view_module": "@jupyter-widgets/base",
      "_view_module_version": "1.2.0",
      "_view_name": "LayoutView",
      "align_content": null,
      "align_items": null,
      "align_self": null,
      "border": null,
      "bottom": null,
      "display": null,
      "flex": null,
      "flex_flow": null,
      "grid_area": null,
      "grid_auto_columns": null,
      "grid_auto_flow": null,
      "grid_auto_rows": null,
      "grid_column": null,
      "grid_gap": null,
      "grid_row": null,
      "grid_template_areas": null,
      "grid_template_columns": null,
      "grid_template_rows": null,
      "height": null,
      "justify_content": null,
      "justify_items": null,
      "left": null,
      "margin": null,
      "max_height": null,
      "max_width": null,
      "min_height": null,
      "min_width": null,
      "object_fit": null,
      "object_position": null,
      "order": null,
      "overflow": null,
      "overflow_x": null,
      "overflow_y": null,
      "padding": null,
      "right": null,
      "top": null,
      "visibility": null,
      "width": null
     }
    },
    "9f66f2f5cd4b4f15bc45e481558b817c": {
     "model_module": "@jupyter-widgets/controls",
     "model_module_version": "1.5.0",
     "model_name": "VBoxModel",
     "state": {
      "_dom_classes": [],
      "_model_module": "@jupyter-widgets/controls",
      "_model_module_version": "1.5.0",
      "_model_name": "VBoxModel",
      "_view_count": null,
      "_view_module": "@jupyter-widgets/controls",
      "_view_module_version": "1.5.0",
      "_view_name": "VBoxView",
      "box_style": "",
      "children": [
       "IPY_MODEL_71a5439a26b640ed9b63da2041fbf67e"
      ],
      "layout": "IPY_MODEL_98b6cea6d2114a9faf82b8f776825352"
     }
    },
    "fea00514b1f7459ab8863d9cbe132bc3": {
     "model_module": "@jupyter-widgets/base",
     "model_module_version": "1.2.0",
     "model_name": "LayoutModel",
     "state": {
      "_model_module": "@jupyter-widgets/base",
      "_model_module_version": "1.2.0",
      "_model_name": "LayoutModel",
      "_view_count": null,
      "_view_module": "@jupyter-widgets/base",
      "_view_module_version": "1.2.0",
      "_view_name": "LayoutView",
      "align_content": null,
      "align_items": null,
      "align_self": null,
      "border": null,
      "bottom": null,
      "display": null,
      "flex": null,
      "flex_flow": null,
      "grid_area": null,
      "grid_auto_columns": null,
      "grid_auto_flow": null,
      "grid_auto_rows": null,
      "grid_column": null,
      "grid_gap": null,
      "grid_row": null,
      "grid_template_areas": null,
      "grid_template_columns": null,
      "grid_template_rows": null,
      "height": null,
      "justify_content": null,
      "justify_items": null,
      "left": null,
      "margin": null,
      "max_height": null,
      "max_width": null,
      "min_height": null,
      "min_width": null,
      "object_fit": null,
      "object_position": null,
      "order": null,
      "overflow": null,
      "overflow_x": null,
      "overflow_y": null,
      "padding": null,
      "right": null,
      "top": null,
      "visibility": null,
      "width": "500px"
     }
    }
   }
  }
 },
 "nbformat": 4,
 "nbformat_minor": 4
}
